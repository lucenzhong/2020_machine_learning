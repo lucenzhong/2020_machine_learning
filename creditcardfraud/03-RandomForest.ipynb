{
 "cells": [
  {
   "cell_type": "code",
   "execution_count": 1,
   "metadata": {},
   "outputs": [],
   "source": [
    "import pandas as pd\n",
    "import numpy as np\n",
    "import matplotlib.pyplot as plt\n",
    "from sklearn.preprocessing import StandardScaler\n",
    "from sklearn.model_selection import train_test_split\n",
    "from sklearn.ensemble import RandomForestClassifier\n",
    "from sklearn.model_selection import KFold, cross_val_score\n",
    "from sklearn.metrics import confusion_matrix,recall_score,classification_report,roc_curve, roc_auc_score,auc"
   ]
  },
  {
   "cell_type": "markdown",
   "metadata": {},
   "source": [
    "## RandomForest"
   ]
  },
  {
   "cell_type": "markdown",
   "metadata": {},
   "source": [
    "### 1.数据集加载"
   ]
  },
  {
   "cell_type": "code",
   "execution_count": 2,
   "metadata": {},
   "outputs": [],
   "source": [
    "data = pd.read_csv('./dataset/creditcard.csv')\n",
    "\n",
    "# 将Amount标准化，并将不需要用到的Time去掉\n",
    "data[['Amount']] = StandardScaler().fit_transform(data[['Amount']])\n",
    "data=data.loc[:,data.columns!='Time']\n",
    "data.head()\n",
    "\n",
    "# 分离特征和标签\n",
    "X = data.loc[:, data.columns != 'Class']\n",
    "y = data['Class']"
   ]
  },
  {
   "cell_type": "markdown",
   "metadata": {},
   "source": [
    "### 2.训练集、测试集划分"
   ]
  },
  {
   "cell_type": "code",
   "execution_count": 3,
   "metadata": {},
   "outputs": [],
   "source": [
    "X_train, X_test, y_train, y_test = \\\n",
    "                   train_test_split(X,y,test_size = 0.3, \n",
    "                                    random_state = 0)"
   ]
  },
  {
   "cell_type": "markdown",
   "metadata": {},
   "source": [
    "### 3. 模型\n",
    "#### 3.1 下采样"
   ]
  },
  {
   "cell_type": "code",
   "execution_count": 4,
   "metadata": {},
   "outputs": [
    {
     "name": "stdout",
     "output_type": "stream",
     "text": [
      "正样本比例(0类):  0.5\n",
      "负样本比例(1类):  0.5\n",
      "下采样后总样本个数为:  984\n"
     ]
    }
   ],
   "source": [
    "# 计算少数类个数\n",
    "number_records_fraud = len(data[data.Class == 1])\n",
    "# 取得少数类样本的索引\n",
    "fraud_indices = np.array(data[data.Class == 1].index)\n",
    "# 取得多数类样本的索引\n",
    "normal_indices = data[data.Class == 0].index\n",
    "\n",
    "# 从多数类中随机选择与少数类个数相同的样本数作为样本\n",
    "random_normal_indices = np.random.choice(normal_indices, number_records_fraud, replace = False)\n",
    "random_normal_indices = np.array(random_normal_indices)\n",
    "\n",
    "# 合并随机取得的0类和全部的1类的索引\n",
    "under_sample_indices = np.concatenate([fraud_indices,random_normal_indices])\n",
    "\n",
    "# 根据索引得到下采样后的数据集\n",
    "under_sample_data = data.iloc[under_sample_indices,:]\n",
    "\n",
    "# 分离特征和标签\n",
    "X_undersample = under_sample_data.iloc[:, under_sample_data.columns != 'Class']\n",
    "y_undersample = under_sample_data.iloc[:, under_sample_data.columns == 'Class']\n",
    "\n",
    "print(\"正样本比例(0类): \", len(under_sample_data[under_sample_data.Class == 0])/len(under_sample_data))\n",
    "print(\"负样本比例(1类): \", len(under_sample_data[under_sample_data.Class == 1])/len(under_sample_data))\n",
    "print(\"下采样后总样本个数为: \", len(under_sample_data))"
   ]
  },
  {
   "cell_type": "code",
   "execution_count": 5,
   "metadata": {},
   "outputs": [],
   "source": [
    "# 下采样\n",
    "X_train_undersample, X_test_undersample, y_train_undersample, y_test_undersample = \\\n",
    "                                                train_test_split(X_undersample,\n",
    "                                                                 y_undersample,\n",
    "                                                                 test_size = 0.3,\n",
    "                                                                 random_state = 0)\n"
   ]
  },
  {
   "cell_type": "code",
   "execution_count": 6,
   "metadata": {},
   "outputs": [
    {
     "name": "stdout",
     "output_type": "stream",
     "text": [
      "混淆矩阵： [[82347  2949]\n",
      " [    5   142]]\n",
      "              precision    recall  f1-score   support\n",
      "\n",
      "           0       1.00      0.97      0.98     85296\n",
      "           1       0.05      0.97      0.09       147\n",
      "\n",
      "    accuracy                           0.97     85443\n",
      "   macro avg       0.52      0.97      0.54     85443\n",
      "weighted avg       1.00      0.97      0.98     85443\n",
      "\n",
      "测试集Recall:  0.9659863945578231\n",
      "AUC值： 0.9657063374027157\n"
     ]
    }
   ],
   "source": [
    "random_forest = RandomForestClassifier(n_estimators=100)\n",
    "random_forest.fit(X_train_undersample,y_train_undersample.values.ravel())\n",
    "y_pred_undersample = random_forest.predict(X_test.values)\n",
    "\n",
    "# Compute confusion matrix\n",
    "cnf_matrix = confusion_matrix(y_test,y_pred_undersample)\n",
    "print(\"混淆矩阵：\",cnf_matrix)\n",
    "np.set_printoptions(precision=2)\n",
    "\n",
    "print(classification_report(y_test,y_pred_undersample))\n",
    "print(\"测试集Recall: \", cnf_matrix[1,1]/(cnf_matrix[1,0]+cnf_matrix[1,1]))\n",
    "false_positive_rate, true_positive_rate, thresholds = roc_curve(y_test,y_pred_undersample)\n",
    "roc_auc = auc(false_positive_rate, true_positive_rate)\n",
    "print (\"AUC值：\",roc_auc)"
   ]
  },
  {
   "cell_type": "code",
   "execution_count": 7,
   "metadata": {},
   "outputs": [
    {
     "data": {
      "image/png": "[encoded data removed]",
      "text/plain": [
       "<Figure size 432x288 with 1 Axes>"
      ]
     },
     "metadata": {
      "needs_background": "light"
     },
     "output_type": "display_data"
    }
   ],
   "source": [
    "plt.title('Receiver Operating Characteristic')\n",
    "plt.plot(false_positive_rate, true_positive_rate, 'b', label='AUC = %0.2f'% roc_auc)\n",
    "plt.legend(loc='lower right')\n",
    "plt.plot([0,1],[0,1],'r--')\n",
    "plt.xlim([-0.1,1.2])\n",
    "plt.ylim([-0.1,1.2])\n",
    "plt.ylabel('True Positive Rate')\n",
    "plt.xlabel('False Positive Rate')\n",
    "plt.savefig('./result_img/RF_subsample.png',bbox_inches=\"tight\")"
   ]
  },
  {
   "cell_type": "markdown",
   "metadata": {},
   "source": [
    "#### 3.2 上采样"
   ]
  },
  {
   "cell_type": "code",
   "execution_count": 8,
   "metadata": {},
   "outputs": [
    {
     "name": "stderr",
     "output_type": "stream",
     "text": [
      "Using TensorFlow backend.\n"
     ]
    },
    {
     "name": "stdout",
     "output_type": "stream",
     "text": [
      "混淆矩阵： [[85285    11]\n",
      " [   27   120]]\n",
      "              precision    recall  f1-score   support\n",
      "\n",
      "           0       1.00      1.00      1.00     85296\n",
      "           1       0.92      0.82      0.86       147\n",
      "\n",
      "    accuracy                           1.00     85443\n",
      "   macro avg       0.96      0.91      0.93     85443\n",
      "weighted avg       1.00      1.00      1.00     85443\n",
      "\n",
      "测试集Recall:  0.8163265306122449\n",
      "AUC值： 0.9080987839705381\n"
     ]
    }
   ],
   "source": [
    "from imblearn.over_sampling import SMOTE\n",
    "X_train_oversample, y_train_oversample = SMOTE().fit_sample(X_train, y_train)\n",
    "random_forest2 = RandomForestClassifier(n_estimators=100)\n",
    "random_forest2.fit(X_train_oversample,y_train_oversample.values.ravel())\n",
    "y_pred_oversample = random_forest2.predict(X_test.values)\n",
    "\n",
    "# Compute confusion matrix\n",
    "cnf_matrix = confusion_matrix(y_test,y_pred_oversample)\n",
    "print(\"混淆矩阵：\",cnf_matrix)\n",
    "np.set_printoptions(precision=2)\n",
    "\n",
    "print(classification_report(y_test,y_pred_oversample))\n",
    "print(\"测试集Recall: \", cnf_matrix[1,1]/(cnf_matrix[1,0]+cnf_matrix[1,1]))\n",
    "false_positive_rate, true_positive_rate, thresholds = roc_curve(y_test,y_pred_oversample)\n",
    "roc_auc = auc(false_positive_rate, true_positive_rate)\n",
    "print (\"AUC值：\",roc_auc)"
   ]
  },
  {
   "cell_type": "code",
   "execution_count": 9,
   "metadata": {},
   "outputs": [
    {
     "data": {
      "image/png": "[encoded data removed]",
      "text/plain": [
       "<Figure size 432x288 with 1 Axes>"
      ]
     },
     "metadata": {
      "needs_background": "light"
     },
     "output_type": "display_data"
    }
   ],
   "source": [
    "plt.title('Receiver Operating Characteristic')\n",
    "plt.plot(false_positive_rate, true_positive_rate, 'b', label='AUC = %0.2f'% roc_auc)\n",
    "plt.legend(loc='lower right')\n",
    "plt.plot([0,1],[0,1],'r--')\n",
    "plt.xlim([-0.1,1.2])\n",
    "plt.ylim([-0.1,1.2])\n",
    "plt.ylabel('True Positive Rate')\n",
    "plt.xlabel('False Positive Rate')\n",
    "plt.savefig('./result_img/RF_oversample.png',bbox_inches=\"tight\")"
   ]
  },
  {
   "cell_type": "markdown",
   "metadata": {},
   "source": [
    "#### 3.3 不进行采样"
   ]
  },
  {
   "cell_type": "code",
   "execution_count": 10,
   "metadata": {},
   "outputs": [
    {
     "name": "stdout",
     "output_type": "stream",
     "text": [
      "混淆矩阵： [[85289     7]\n",
      " [   36   111]]\n",
      "              precision    recall  f1-score   support\n",
      "\n",
      "           0       1.00      1.00      1.00     85296\n",
      "           1       0.94      0.76      0.84       147\n",
      "\n",
      "    accuracy                           1.00     85443\n",
      "   macro avg       0.97      0.88      0.92     85443\n",
      "weighted avg       1.00      1.00      1.00     85443\n",
      "\n",
      "测试集Recall:  0.7551020408163265\n",
      "AUC值： 0.8775099868309733\n"
     ]
    }
   ],
   "source": [
    "# 未采样\n",
    "random_forest3 = RandomForestClassifier(n_estimators=100)\n",
    "random_forest3.fit(X_train,y_train.values.ravel())\n",
    "y_pred = random_forest3.predict(X_test.values)\n",
    "\n",
    "# 计算混淆矩阵\n",
    "cnf_matrix = confusion_matrix(y_test,y_pred)\n",
    "print(\"混淆矩阵：\",cnf_matrix)\n",
    "np.set_printoptions(precision=2)\n",
    "print(classification_report(y_test,y_pred))\n",
    "print(\"测试集Recall: \", cnf_matrix[1,1]/(cnf_matrix[1,0]+cnf_matrix[1,1]))\n",
    "false_positive_rate, true_positive_rate, thresholds = roc_curve(y_test,y_pred)\n",
    "roc_auc = auc(false_positive_rate, true_positive_rate)\n",
    "print (\"AUC值：\",roc_auc)"
   ]
  },
  {
   "cell_type": "code",
   "execution_count": 11,
   "metadata": {},
   "outputs": [
    {
     "data": {
      "image/png": "[encoded data removed]",
      "text/plain": [
       "<Figure size 432x288 with 1 Axes>"
      ]
     },
     "metadata": {
      "needs_background": "light"
     },
     "output_type": "display_data"
    }
   ],
   "source": [
    "plt.title('Receiver Operating Characteristic')\n",
    "plt.plot(false_positive_rate, true_positive_rate, 'b', label='AUC = %0.2f'% roc_auc)\n",
    "plt.legend(loc='lower right')\n",
    "plt.plot([0,1],[0,1],'r--')\n",
    "plt.xlim([-0.1,1.2])\n",
    "plt.ylim([-0.1,1.2])\n",
    "plt.ylabel('True Positive Rate')\n",
    "plt.xlabel('False Positive Rate')\n",
    "plt.savefig('./result_img/RF_without_sample.png',bbox_inches=\"tight\")"
   ]
  },
  {
   "cell_type": "code",
   "execution_count": null,
   "metadata": {},
   "outputs": [],
   "source": []
  }
 ],
 "metadata": {
  "kernelspec": {
   "display_name": "Python 3",
   "language": "python",
   "name": "python3"
  },
  "language_info": {
   "codemirror_mode": {
    "name": "ipython",
    "version": 3
   },
   "file_extension": ".py",
   "mimetype": "text/x-python",
   "name": "python",
   "nbconvert_exporter": "python",
   "pygments_lexer": "ipython3",
   "version": "3.7.3"
  }
 },
 "nbformat": 4,
 "nbformat_minor": 2
}
