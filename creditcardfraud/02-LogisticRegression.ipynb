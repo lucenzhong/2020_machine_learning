{
 "cells": [
  {
   "cell_type": "code",
   "execution_count": 1,
   "metadata": {},
   "outputs": [],
   "source": [
    "import pandas as pd\n",
    "import numpy as np\n",
    "import matplotlib.pyplot as plt\n",
    "from sklearn.preprocessing import StandardScaler\n",
    "from sklearn.model_selection import train_test_split\n",
    "from sklearn.linear_model import LogisticRegression\n",
    "from sklearn.model_selection import KFold, cross_val_score\n",
    "from sklearn.metrics import confusion_matrix,recall_score,classification_report,roc_curve, roc_auc_score,auc"
   ]
  },
  {
   "cell_type": "markdown",
   "metadata": {},
   "source": [
    "## LogisticRegression"
   ]
  },
  {
   "cell_type": "markdown",
   "metadata": {},
   "source": [
    "### 1.数据集加载"
   ]
  },
  {
   "cell_type": "code",
   "execution_count": 2,
   "metadata": {},
   "outputs": [],
   "source": [
    "data = pd.read_csv('./dataset/creditcard.csv')\n",
    "\n",
    "# 将Amount标准化，并将不需要用到的Time去掉\n",
    "data[['Amount']] = StandardScaler().fit_transform(data[['Amount']])\n",
    "data=data.loc[:,data.columns!='Time']\n",
    "data.head()\n",
    "\n",
    "# 分离特征和标签\n",
    "X = data.loc[:, data.columns != 'Class']\n",
    "y = data['Class']"
   ]
  },
  {
   "cell_type": "markdown",
   "metadata": {},
   "source": [
    "### 2.训练集、测试集划分"
   ]
  },
  {
   "cell_type": "code",
   "execution_count": 3,
   "metadata": {},
   "outputs": [],
   "source": [
    "X_train, X_test, y_train, y_test = \\\n",
    "                   train_test_split(X,y,test_size = 0.3, \n",
    "                                    random_state = 0)"
   ]
  },
  {
   "cell_type": "markdown",
   "metadata": {},
   "source": [
    "### 3. 模型\n",
    "#### 3.1 下采样"
   ]
  },
  {
   "cell_type": "code",
   "execution_count": 4,
   "metadata": {},
   "outputs": [
    {
     "name": "stdout",
     "output_type": "stream",
     "text": [
      "正样本比例(0类):  0.5\n",
      "负样本比例(1类):  0.5\n",
      "下采样后总样本个数为:  984\n"
     ]
    }
   ],
   "source": [
    "# 计算少数类个数\n",
    "number_records_fraud = len(data[data.Class == 1])\n",
    "# 取得少数类样本的索引\n",
    "fraud_indices = np.array(data[data.Class == 1].index)\n",
    "# 取得多数类样本的索引\n",
    "normal_indices = data[data.Class == 0].index\n",
    "\n",
    "# 从多数类中随机选择与少数类个数相同的样本数作为样本\n",
    "random_normal_indices = np.random.choice(normal_indices, number_records_fraud, replace = False)\n",
    "random_normal_indices = np.array(random_normal_indices)\n",
    "\n",
    "# 合并随机取得的0类和全部的1类的索引\n",
    "under_sample_indices = np.concatenate([fraud_indices,random_normal_indices])\n",
    "\n",
    "# 根据索引得到下采样后的数据集\n",
    "under_sample_data = data.iloc[under_sample_indices,:]\n",
    "\n",
    "# 分离特征和标签\n",
    "X_undersample = under_sample_data.iloc[:, under_sample_data.columns != 'Class']\n",
    "y_undersample = under_sample_data.iloc[:, under_sample_data.columns == 'Class']\n",
    "\n",
    "print(\"正样本比例(0类): \", len(under_sample_data[under_sample_data.Class == 0])/len(under_sample_data))\n",
    "print(\"负样本比例(1类): \", len(under_sample_data[under_sample_data.Class == 1])/len(under_sample_data))\n",
    "print(\"下采样后总样本个数为: \", len(under_sample_data))"
   ]
  },
  {
   "cell_type": "code",
   "execution_count": 5,
   "metadata": {},
   "outputs": [
    {
     "name": "stdout",
     "output_type": "stream",
     "text": [
      "下采样后训练集样本数:  688\n",
      "下采样后测试集样本数:  296\n",
      "下采样后样本总数:  984\n"
     ]
    }
   ],
   "source": [
    "# 下采样\n",
    "X_train_undersample, X_test_undersample, y_train_undersample, y_test_undersample = \\\n",
    "                                                train_test_split(X_undersample,\n",
    "                                                                 y_undersample,\n",
    "                                                                 test_size = 0.3,\n",
    "                                                                 random_state = 0)\n",
    "\n",
    "print(\"下采样后训练集样本数: \", len(X_train_undersample))\n",
    "print(\"下采样后测试集样本数: \", len(X_test_undersample))\n",
    "print(\"下采样后样本总数: \", len(X_train_undersample)+len(X_test_undersample))"
   ]
  },
  {
   "cell_type": "code",
   "execution_count": 6,
   "metadata": {},
   "outputs": [
    {
     "name": "stdout",
     "output_type": "stream",
     "text": [
      "混淆矩阵： [[82286  3010]\n",
      " [   10   137]]\n",
      "              precision    recall  f1-score   support\n",
      "\n",
      "           0       1.00      0.96      0.98     85296\n",
      "           1       0.04      0.93      0.08       147\n",
      "\n",
      "    accuracy                           0.96     85443\n",
      "   macro avg       0.52      0.95      0.53     85443\n",
      "weighted avg       1.00      0.96      0.98     85443\n",
      "\n",
      "测试集Recall:  0.9319727891156463\n",
      "AUC值： 0.9483419563661142\n"
     ]
    }
   ],
   "source": [
    "lr = LogisticRegression(C = 10, penalty = 'l2')\n",
    "lr.fit(X_train_undersample,y_train_undersample.values.ravel())\n",
    "y_pred_undersample = lr.predict(X_test.values)\n",
    "\n",
    "# Compute confusion matrix\n",
    "cnf_matrix = confusion_matrix(y_test,y_pred_undersample)\n",
    "print(\"混淆矩阵：\",cnf_matrix)\n",
    "np.set_printoptions(precision=2)\n",
    "\n",
    "print(classification_report(y_test,y_pred_undersample))\n",
    "print(\"测试集Recall: \", cnf_matrix[1,1]/(cnf_matrix[1,0]+cnf_matrix[1,1]))\n",
    "false_positive_rate, true_positive_rate, thresholds = roc_curve(y_test,y_pred_undersample)\n",
    "roc_auc = auc(false_positive_rate, true_positive_rate)\n",
    "print (\"AUC值：\",roc_auc)"
   ]
  },
  {
   "cell_type": "code",
   "execution_count": 7,
   "metadata": {},
   "outputs": [
    {
     "data": {
      "image/png": "[encoded data removed]",
      "text/plain": [
       "<Figure size 432x288 with 1 Axes>"
      ]
     },
     "metadata": {
      "needs_background": "light"
     },
     "output_type": "display_data"
    }
   ],
   "source": [
    "plt.title('Receiver Operating Characteristic')\n",
    "plt.plot(false_positive_rate, true_positive_rate, 'b', label='AUC = %0.2f'% roc_auc)\n",
    "plt.legend(loc='lower right')\n",
    "plt.plot([0,1],[0,1],'r--')\n",
    "plt.xlim([-0.1,1.2])\n",
    "plt.ylim([-0.1,1.2])\n",
    "plt.ylabel('True Positive Rate')\n",
    "plt.xlabel('False Positive Rate')\n",
    "plt.savefig('./result_img/LR_subsample.png',bbox_inches=\"tight\")"
   ]
  },
  {
   "cell_type": "markdown",
   "metadata": {},
   "source": [
    "#### 3.2 上采样"
   ]
  },
  {
   "cell_type": "code",
   "execution_count": 8,
   "metadata": {},
   "outputs": [
    {
     "name": "stderr",
     "output_type": "stream",
     "text": [
      "Using TensorFlow backend.\n"
     ]
    },
    {
     "name": "stdout",
     "output_type": "stream",
     "text": [
      "混淆矩阵： [[83184  2112]\n",
      " [   12   135]]\n",
      "              precision    recall  f1-score   support\n",
      "\n",
      "           0       1.00      0.98      0.99     85296\n",
      "           1       0.06      0.92      0.11       147\n",
      "\n",
      "    accuracy                           0.98     85443\n",
      "   macro avg       0.53      0.95      0.55     85443\n",
      "weighted avg       1.00      0.98      0.99     85443\n",
      "\n",
      "测试集Recall:  0.9183673469387755\n",
      "AUC值： 0.9468032570371987\n"
     ]
    }
   ],
   "source": [
    "from imblearn.over_sampling import SMOTE\n",
    "X_train_oversample, y_train_oversample = SMOTE().fit_sample(X_train, y_train)\n",
    "lr2 = LogisticRegression(C = 10, penalty = 'l2')\n",
    "lr2.fit(X_train_oversample,y_train_oversample.values.ravel())\n",
    "y_pred_oversample = lr2.predict(X_test.values)\n",
    "\n",
    "# Compute confusion matrix\n",
    "cnf_matrix = confusion_matrix(y_test,y_pred_oversample)\n",
    "print(\"混淆矩阵：\",cnf_matrix)\n",
    "np.set_printoptions(precision=2)\n",
    "\n",
    "print(classification_report(y_test,y_pred_oversample))\n",
    "print(\"测试集Recall: \", cnf_matrix[1,1]/(cnf_matrix[1,0]+cnf_matrix[1,1]))\n",
    "false_positive_rate, true_positive_rate, thresholds = roc_curve(y_test,y_pred_oversample)\n",
    "roc_auc = auc(false_positive_rate, true_positive_rate)\n",
    "print (\"AUC值：\",roc_auc)"
   ]
  },
  {
   "cell_type": "code",
   "execution_count": 9,
   "metadata": {},
   "outputs": [
    {
     "data": {
      "image/png": "[encoded data removed]",
      "text/plain": [
       "<Figure size 432x288 with 1 Axes>"
      ]
     },
     "metadata": {
      "needs_background": "light"
     },
     "output_type": "display_data"
    }
   ],
   "source": [
    "plt.title('Receiver Operating Characteristic')\n",
    "plt.plot(false_positive_rate, true_positive_rate, 'b', label='AUC = %0.2f'% roc_auc)\n",
    "plt.legend(loc='lower right')\n",
    "plt.plot([0,1],[0,1],'r--')\n",
    "plt.xlim([-0.1,1.2])\n",
    "plt.ylim([-0.1,1.2])\n",
    "plt.ylabel('True Positive Rate')\n",
    "plt.xlabel('False Positive Rate')\n",
    "plt.savefig('./result_img/LR_oversample.png',bbox_inches=\"tight\")"
   ]
  },
  {
   "cell_type": "markdown",
   "metadata": {},
   "source": [
    "#### 3.3 不进行采样"
   ]
  },
  {
   "cell_type": "code",
   "execution_count": 10,
   "metadata": {},
   "outputs": [
    {
     "name": "stdout",
     "output_type": "stream",
     "text": [
      "混淆矩阵： [[85284    12]\n",
      " [   56    91]]\n",
      "              precision    recall  f1-score   support\n",
      "\n",
      "           0       1.00      1.00      1.00     85296\n",
      "           1       0.88      0.62      0.73       147\n",
      "\n",
      "    accuracy                           1.00     85443\n",
      "   macro avg       0.94      0.81      0.86     85443\n",
      "weighted avg       1.00      1.00      1.00     85443\n",
      "\n",
      "测试集Recall:  0.6190476190476191\n",
      "AUC值： 0.8094534662486266\n"
     ]
    }
   ],
   "source": [
    "# 未采样\n",
    "lr3 = LogisticRegression(C = 10, penalty = 'l2')\n",
    "lr3.fit(X_train,y_train.values.ravel())\n",
    "y_pred = lr3.predict(X_test.values)\n",
    "\n",
    "# 计算混淆矩阵\n",
    "cnf_matrix = confusion_matrix(y_test,y_pred)\n",
    "print(\"混淆矩阵：\",cnf_matrix)\n",
    "np.set_printoptions(precision=2)\n",
    "print(classification_report(y_test,y_pred))\n",
    "print(\"测试集Recall: \", cnf_matrix[1,1]/(cnf_matrix[1,0]+cnf_matrix[1,1]))\n",
    "false_positive_rate, true_positive_rate, thresholds = roc_curve(y_test,y_pred)\n",
    "roc_auc = auc(false_positive_rate, true_positive_rate)\n",
    "print (\"AUC值：\",roc_auc)"
   ]
  },
  {
   "cell_type": "code",
   "execution_count": 11,
   "metadata": {},
   "outputs": [
    {
     "data": {
      "image/png": "[encoded data removed]",
      "text/plain": [
       "<Figure size 432x288 with 1 Axes>"
      ]
     },
     "metadata": {
      "needs_background": "light"
     },
     "output_type": "display_data"
    }
   ],
   "source": [
    "plt.title('Receiver Operating Characteristic')\n",
    "plt.plot(false_positive_rate, true_positive_rate, 'b', label='AUC = %0.2f'% roc_auc)\n",
    "plt.legend(loc='lower right')\n",
    "plt.plot([0,1],[0,1],'r--')\n",
    "plt.xlim([-0.1,1.2])\n",
    "plt.ylim([-0.1,1.2])\n",
    "plt.ylabel('True Positive Rate')\n",
    "plt.xlabel('False Positive Rate')\n",
    "plt.savefig('./result_img/LR_without_sample.png',bbox_inches=\"tight\")"
   ]
  },
  {
   "cell_type": "code",
   "execution_count": null,
   "metadata": {},
   "outputs": [],
   "source": []
  }
 ],
 "metadata": {
  "kernelspec": {
   "display_name": "Python 3",
   "language": "python",
   "name": "python3"
  },
  "language_info": {
   "codemirror_mode": {
    "name": "ipython",
    "version": 3
   },
   "file_extension": ".py",
   "mimetype": "text/x-python",
   "name": "python",
   "nbconvert_exporter": "python",
   "pygments_lexer": "ipython3",
   "version": "3.7.3"
  }
 },
 "nbformat": 4,
 "nbformat_minor": 2
}
